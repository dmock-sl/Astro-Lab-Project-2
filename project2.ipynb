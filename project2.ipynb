{
 "cells": [
  {
   "cell_type": "code",
   "execution_count": 40,
   "metadata": {},
   "outputs": [],
   "source": [
    "import numpy as np\n",
    "import matplotlib.pyplot as plt\n",
    "from astropy.io import fits\n",
    "from glob import glob\n",
    "from astropy.table import Table\n",
    "from uncertainties import ufloat\n",
    "from uncertainties import unumpy\n",
    "from uncertainties.umath import * "
   ]
  },
  {
   "cell_type": "code",
   "execution_count": 11,
   "metadata": {},
   "outputs": [],
   "source": [
    "iflat=sorted(glob('/media/daniel/disk/project2_data/Calibration_data/i_flats/A*.fits'))\n",
    "bias=sorted(glob('/media/daniel/disk/project2_data/Calibration_data/zeros/*.fits'))\n",
    "shots=sorted(glob('/media/daniel/disk/project2_data/starsquad/20200310/*.fits'))\n",
    "irregular_shots=sorted(glob('/media/daniel/disk/project2_data/starsquad/other_data/i*.fits'))"
   ]
  },
  {
   "cell_type": "code",
   "execution_count": 13,
   "metadata": {},
   "outputs": [],
   "source": [
    "def combiner(flat):#pulls a flat, converts to an array, subtracts the master bias, then adds it to the array of arrays\n",
    "    x=[]\n",
    "    for y in flat:\n",
    "        x.append(((fits.getdata(y)-master_bias)))\n",
    "        \n",
    "    return x"
   ]
  },
  {
   "cell_type": "code",
   "execution_count": 14,
   "metadata": {},
   "outputs": [],
   "source": [
    "def combinerbias(flat):#pulls a bias, converts to an array, then adds it to the array of arrays\n",
    "    x=[]\n",
    "    for y in flat:\n",
    "        x.append(fits.getdata(y))\n",
    "    return x"
   ]
  },
  {
   "cell_type": "code",
   "execution_count": 15,
   "metadata": {},
   "outputs": [],
   "source": [
    "#creating master_bias\n",
    "master_bias=np.median(combinerbias(bias),axis=0)"
   ]
  },
  {
   "cell_type": "code",
   "execution_count": 16,
   "metadata": {},
   "outputs": [],
   "source": [
    "#writing to file for sharing with Dr. Kraus over email\n",
    "bias_write=fits.PrimaryHDU(master_bias)\n",
    "biasname='/media/daniel/disk/project2_data/starsquad/master_bias.fits'\n",
    "bias_write.writeto(biasname,overwrite=True)"
   ]
  },
  {
   "cell_type": "code",
   "execution_count": 17,
   "metadata": {},
   "outputs": [],
   "source": [
    "#creating master I flat\n",
    "master_iflat=np.median(combiner(iflat),axis=0)\n",
    "master_iflat=master_iflat/np.median(master_iflat)"
   ]
  },
  {
   "cell_type": "code",
   "execution_count": 18,
   "metadata": {},
   "outputs": [],
   "source": [
    "#writing to file\n",
    "flat_write=fits.PrimaryHDU(master_iflat)\n",
    "iflatname='/media/daniel/disk/project2_data/starsquad/master_iflat.fits'\n",
    "flat_write.writeto(iflatname,overwrite=True)"
   ]
  },
  {
   "cell_type": "code",
   "execution_count": 19,
   "metadata": {},
   "outputs": [],
   "source": [
    "i=0\n",
    "irregular_shots_arry=[]\n",
    "for shot in irregular_shots:\n",
    "    irregular_shots_arry.append(fits.getdata(shot))\n",
    "    i+=1"
   ]
  },
  {
   "cell_type": "code",
   "execution_count": 20,
   "metadata": {},
   "outputs": [
    {
     "name": "stderr",
     "output_type": "stream",
     "text": [
      "/home/daniel/miniconda3/lib/python3.7/site-packages/ipykernel_launcher.py:3: RuntimeWarning: divide by zero encountered in true_divide\n",
      "  This is separate from the ipykernel package so we can avoid doing imports until\n"
     ]
    }
   ],
   "source": [
    "#irregular shot image processing. These are the non-standard image sizes from early in the observation.\n",
    "irregular_shots_processed=[]\n",
    "irregular_shots_processed.append((irregular_shots_arry[0]-master_bias)/master_iflat)#this is a different size than the other images in this array so its processing is done seperately\n",
    "master_iflat_sub2=np.zeros((513,1057))\n",
    "master_bias_sub2=np.zeros((513,1057))\n",
    "#creating sub-array of bias and flat\n",
    "for x in range(512,1569):\n",
    "    for y in range(768,1281):\n",
    "        master_iflat_sub2[y-768][x-512]=master_iflat[y][x]\n",
    "        master_bias_sub2[y-768][x-512]=master_bias[y][x]\n",
    "#applying the calibrations\n",
    "i=1\n",
    "while i<len(irregular_shots_arry): \n",
    "    irregular_shots_processed.append((irregular_shots_arry[i]-master_bias_sub2)/master_iflat_sub2)\n",
    "    i+=1"
   ]
  },
  {
   "cell_type": "code",
   "execution_count": 21,
   "metadata": {},
   "outputs": [],
   "source": [
    "#write irregular processed shots to fits files\n",
    "i=0\n",
    "for shot in irregular_shots_processed:\n",
    "    shot_to_write=fits.PrimaryHDU(shot)\n",
    "    filename='/media/daniel/disk/project2_data/starsquad/irregular_shots/irregimg'+str(i)+'.fits'\n",
    "    shot_to_write.writeto(filename,overwrite=True)\n",
    "    i+=1"
   ]
  },
  {
   "cell_type": "code",
   "execution_count": 22,
   "metadata": {},
   "outputs": [],
   "source": [
    "#making subarrays of the flat and bias for use with the majority of the shots\n",
    "master_iflat_sub=np.zeros((513,2080))\n",
    "master_bias_sub=np.zeros((513,2080))\n",
    "\n",
    "for x in range(0,2080):\n",
    "     for y in range(768,1281):\n",
    "        master_iflat_sub[y-768][x]=master_iflat[y][x]\n",
    "        master_bias_sub[y-768][x]=master_bias[y][x]"
   ]
  },
  {
   "cell_type": "code",
   "execution_count": 23,
   "metadata": {},
   "outputs": [
    {
     "name": "stderr",
     "output_type": "stream",
     "text": [
      "/home/daniel/miniconda3/lib/python3.7/site-packages/ipykernel_launcher.py:6: RuntimeWarning: divide by zero encountered in true_divide\n",
      "  \n"
     ]
    }
   ],
   "source": [
    "#applying calibrations\n",
    "shotsarry=[]\n",
    "for shot in shots:\n",
    "    shotsarry.append(fits.getdata(shot))\n",
    "    \n",
    "shots_processed=(shotsarry-master_bias_sub)/master_iflat_sub"
   ]
  },
  {
   "cell_type": "code",
   "execution_count": 24,
   "metadata": {},
   "outputs": [],
   "source": [
    "#write processed shots to fits files to be uploaded to astrometry.net\n",
    "i=0\n",
    "for shot in shots_processed:\n",
    "    shot_to_write=fits.PrimaryHDU(shot)\n",
    "    filename='/media/daniel/disk/project2_data/starsquad/processed_data/img'+str(i)+'.fits'\n",
    "    shot_to_write.writeto(filename,overwrite=True)\n",
    "    i+=1"
   ]
  },
  {
   "cell_type": "code",
   "execution_count": 25,
   "metadata": {},
   "outputs": [],
   "source": [
    "#reprojecting\n",
    "from astropy.utils.data import get_pkg_data_filename\n",
    "from reproject import reproject_interp\n",
    "astrometry=sorted(glob('/media/daniel/disk/project2_data/starsquad/astrometry/*.fits'))\n",
    "astrometry_names_run3=['00','02','03','04','05','06','07','08','09','10','11','12','13','14','15','16','17','19','20','21','22','23','24','25','26','27','28','29','30','31','32','33','34','35','36','38','39','40','41','42','44','45','46']\n",
    "#reprojecting everything to new-image38.fits\n",
    "j=0\n",
    "master = fits.open(get_pkg_data_filename('/media/daniel/disk/project2_data/starsquad/astrometry/new-image38.fits'))[0]\n",
    "while j<len(astrometry):\n",
    "    reprojection = fits.open(get_pkg_data_filename(str(astrometry[j])))[0]\n",
    "    array, footprint = reproject_interp(reprojection, master.header)\n",
    "    fits.writeto('/media/daniel/disk/project2_data/starsquad/reprojections/reprojection'+astrometry_names_run3[j]+'.fits', array, master.header, overwrite=True)\n",
    "    j+=1\n"
   ]
  },
  {
   "cell_type": "code",
   "execution_count": 26,
   "metadata": {},
   "outputs": [],
   "source": [
    "#reprojecting the irregular size files that astrometry could solve\n",
    "irreg_astrometry=sorted(glob('/media/daniel/disk/project2_data/starsquad/irregular_shots/astrometry/i*.fits'))\n",
    "j=0\n",
    "irreg_reproj_names=['00','04']\n",
    "while j<len(irreg_astrometry):\n",
    "    reprojection = fits.open(get_pkg_data_filename(str(astrometry[j])))[0]\n",
    "    array, footprint = reproject_interp(reprojection, master.header)\n",
    "    fits.writeto('/media/daniel/disk/project2_data/starsquad/irregular_shots/astrometry/actually_reprojected/irreg_reproj0'+irreg_reproj_names[j]+'.fits', array, master.header, overwrite=True)\n",
    "    j+=1"
   ]
  },
  {
   "cell_type": "code",
   "execution_count": 27,
   "metadata": {},
   "outputs": [],
   "source": [
    "#reading in sourceextractor flux and flux errs for the regular sized images\n",
    "from astropy.io import ascii\n",
    "reprojected_soureextractor_catfiles=sorted(glob('/media/daniel/disk/project2_data/starsquad/reprojections/*.cat'))\n",
    "\n",
    "reprojected_soureextractor_cats=[]\n",
    "for cat in reprojected_soureextractor_catfiles:\n",
    "    reprojected_soureextractor_cats.append(ascii.read(cat))\n",
    "\n",
    "flux_wasp=[]\n",
    "flux_7=[]\n",
    "flux_13=[]\n",
    "flux_6=[]\n",
    "\n",
    "flux_wasp_err=[]\n",
    "flux_7_err=[]\n",
    "flux_13_err=[]\n",
    "flux_6_err=[]\n",
    "\n",
    "for catalog in reprojected_soureextractor_cats:\n",
    "    flux_wasp.append(catalog[11]['FLUX_AUTO'])\n",
    "    flux_7.append(catalog[5]['FLUX_AUTO'])\n",
    "    flux_13.append(catalog[14]['FLUX_AUTO'])\n",
    "    flux_6.append(catalog[4]['FLUX_AUTO'])\n",
    "    flux_wasp_err.append(catalog[11]['FLUXERR_AUTO'])\n",
    "    flux_7_err.append(catalog[5]['FLUXERR_AUTO'])\n",
    "    flux_13_err.append(catalog[14]['FLUXERR_AUTO'])\n",
    "    flux_6_err.append(catalog[4]['FLUXERR_AUTO'])\n"
   ]
  },
  {
   "cell_type": "code",
   "execution_count": 28,
   "metadata": {},
   "outputs": [],
   "source": [
    "def mag(flux_arry):#just a helpful little method to calculate magnitudes from flux\n",
    "    return -2.5*np.log10(flux_arry)"
   ]
  },
  {
   "cell_type": "code",
   "execution_count": 29,
   "metadata": {},
   "outputs": [],
   "source": [
    "#getting flux and flux errs for the irregular sized shots\n",
    "\n",
    "irregular_shots_filenames=sorted(glob('/media/daniel/disk/project2_data/starsquad/irregular_shots/*.cat'))\n",
    "reprojected_irregular_shot_filenames=sorted(glob('/media/daniel/disk/project2_data/starsquad/irregular_shots/astrometry/actually_reprojected/i*.cat'))\n",
    "irregular_shots_cat=[]\n",
    "reprojected_irregular_shots_cat=[]\n",
    "for shot in irregular_shots_filenames:\n",
    "    irregular_shots_cat.append(ascii.read(shot))\n",
    "for shot in reprojected_irregular_shot_filenames:\n",
    "    reprojected_irregular_shots_cat.append(ascii.read(shot))\n",
    "\n",
    "irregular_flux_wasp=[]\n",
    "irregular_flux_wasp_err=[]\n",
    "irregular_flux_7=[]\n",
    "irregular_flux_7_err=[]\n",
    "irregular_flux_13=[]\n",
    "irregular_flux_13_err=[]\n",
    "irregular_flux_6=[]\n",
    "irregular_flux_6_err=[]\n",
    "\n",
    "\n",
    "#for irregimg0 & 4 can use the reprojections\n",
    "#irregimg0\n",
    "irregular_flux_wasp.append(reprojected_irregular_shots_cat[0][11][10])\n",
    "irregular_flux_wasp_err.append(reprojected_irregular_shots_cat[0][11][11])\n",
    "irregular_flux_7.append(reprojected_irregular_shots_cat[0][5][10])\n",
    "irregular_flux_7_err.append(reprojected_irregular_shots_cat[0][5][11])\n",
    "irregular_flux_13.append(reprojected_irregular_shots_cat[0][14][10])\n",
    "irregular_flux_13_err.append(reprojected_irregular_shots_cat[0][14][11])\n",
    "irregular_flux_6.append(reprojected_irregular_shots_cat[0][4][10])\n",
    "irregular_flux_6_err.append(reprojected_irregular_shots_cat[0][4][11])\n",
    "\n",
    "#irregimg1\n",
    "irregular_flux_wasp.append(irregular_shots_cat[0][10][10])\n",
    "irregular_flux_wasp_err.append(irregular_shots_cat[0][10][11])\n",
    "irregular_flux_7.append(irregular_shots_cat[0][8][10])\n",
    "irregular_flux_7_err.append(irregular_shots_cat[0][8][11])\n",
    "irregular_flux_13.append(irregular_shots_cat[0][11][10])\n",
    "irregular_flux_13_err.append(irregular_shots_cat[0][11][11])\n",
    "irregular_flux_6.append(irregular_shots_cat[0][4][10])\n",
    "irregular_flux_6_err.append(irregular_shots_cat[0][4][11])\n",
    "\n",
    "#irregimg2\n",
    "irregular_flux_wasp.append(irregular_shots_cat[1][7][10])\n",
    "irregular_flux_wasp_err.append(irregular_shots_cat[1][7][11])\n",
    "irregular_flux_7.append(irregular_shots_cat[1][6][10])\n",
    "irregular_flux_7_err.append(irregular_shots_cat[1][6][11])\n",
    "irregular_flux_13.append(irregular_shots_cat[1][8][10])\n",
    "irregular_flux_13_err.append(irregular_shots_cat[1][8][11])\n",
    "irregular_flux_6.append(irregular_shots_cat[1][3][10])\n",
    "irregular_flux_6_err.append(irregular_shots_cat[1][3][11])\n",
    "\n",
    "#irregimg3\n",
    "irregular_flux_wasp.append(irregular_shots_cat[2][7][10])\n",
    "irregular_flux_wasp_err.append(irregular_shots_cat[2][7][11])\n",
    "irregular_flux_7.append(irregular_shots_cat[2][6][10])\n",
    "irregular_flux_7_err.append(irregular_shots_cat[2][6][11])\n",
    "irregular_flux_13.append(irregular_shots_cat[2][8][10])\n",
    "irregular_flux_13_err.append(irregular_shots_cat[2][8][11])\n",
    "irregular_flux_6.append(irregular_shots_cat[2][4][10])\n",
    "irregular_flux_6_err.append(irregular_shots_cat[2][4][11])\n",
    "\n",
    "#irregimg4\n",
    "irregular_flux_wasp.append(reprojected_irregular_shots_cat[1][11][10])\n",
    "irregular_flux_wasp_err.append(reprojected_irregular_shots_cat[1][11][11])\n",
    "irregular_flux_7.append(reprojected_irregular_shots_cat[1][5][10])\n",
    "irregular_flux_7_err.append(reprojected_irregular_shots_cat[1][5][11])\n",
    "irregular_flux_13.append(reprojected_irregular_shots_cat[1][14][10])\n",
    "irregular_flux_13_err.append(reprojected_irregular_shots_cat[1][14][11])\n",
    "irregular_flux_6.append(reprojected_irregular_shots_cat[1][4][10])\n",
    "irregular_flux_6_err.append(reprojected_irregular_shots_cat[1][4][11])\n"
   ]
  },
  {
   "cell_type": "code",
   "execution_count": 30,
   "metadata": {},
   "outputs": [],
   "source": [
    "#combining the regular image values and the irregular image values into one master list\n",
    "master_flux_wasp=[]\n",
    "master_flux_wasp_err=[]\n",
    "master_flux_7=[]\n",
    "master_flux_7_err=[]\n",
    "master_flux_13=[]\n",
    "master_flux_13_err=[]\n",
    "master_flux_6=[]\n",
    "master_flux_6_err=[]\n",
    "master_times=[]\n",
    "\n",
    "\n",
    "master_times=[13269,13455,13584,13710,13850,14249,14428,14608,14785,14963,15175,15366,15544,15723,15901,16080,\n",
    "              16265,16444,16622,16801,16979,17371,17549,17728,17906,18156,18335,18513,18692,18870,19096,19275,\n",
    "              19453,19632,19810,20033,20269,20482,20697,21054,21317,21496,21674,21869,22048,22226,22405,22583]\n",
    "master_flux_wasp=list(irregular_flux_wasp[:])\n",
    "master_flux_wasp.extend([*list(flux_wasp[:])])\n",
    "\n",
    "master_flux_wasp_err=list(irregular_flux_wasp_err[:])\n",
    "master_flux_wasp_err.extend([*list(flux_wasp_err[:])])\n",
    "\n",
    "master_flux_7=list(irregular_flux_7[:])\n",
    "master_flux_7.extend([*list(flux_7[:])])\n",
    "\n",
    "master_flux_7_err=list(irregular_flux_7_err[:])\n",
    "master_flux_7_err.extend([*list(flux_7_err[:])])\n",
    "\n",
    "master_flux_13=list(irregular_flux_13[:])\n",
    "master_flux_13.extend([*list(flux_13[:])])\n",
    "\n",
    "master_flux_13_err=list(irregular_flux_13_err[:])\n",
    "master_flux_13_err.extend([*list(flux_13_err[:])])\n",
    "\n",
    "master_flux_6=list(irregular_flux_6[:])\n",
    "master_flux_6.extend([*list(flux_6[:])])\n",
    "\n",
    "master_flux_6_err=list(irregular_flux_6_err[:])\n",
    "master_flux_6_err.extend([*list(flux_6_err[:])])"
   ]
  },
  {
   "cell_type": "code",
   "execution_count": 62,
   "metadata": {
    "scrolled": true
   },
   "outputs": [
    {
     "data": {
      "image/png": "[encoded data removed]",
      "text/plain": [
       "<Figure size 432x288 with 1 Axes>"
      ]
     },
     "metadata": {
      "needs_background": "light"
     },
     "output_type": "display_data"
    },
    {
     "data": {
      "image/png": "[encoded data removed]",
      "text/plain": [
       "<Figure size 432x288 with 1 Axes>"
      ]
     },
     "metadata": {
      "needs_background": "light"
     },
     "output_type": "display_data"
    },
    {
     "data": {
      "image/png": "[encoded data removed]",
      "text/plain": [
       "<Figure size 432x288 with 1 Axes>"
      ]
     },
     "metadata": {
      "needs_background": "light"
     },
     "output_type": "display_data"
    },
    {
     "data": {
      "image/png": "[encoded data removed]",
      "text/plain": [
       "<Figure size 432x288 with 1 Axes>"
      ]
     },
     "metadata": {
      "needs_background": "light"
     },
     "output_type": "display_data"
    }
   ],
   "source": [
    "#differential photometry correction\n",
    "mag_wasp=mag(master_flux_wasp)#target star magnitude\n",
    "mag7=mag(master_flux_7)\n",
    "mag13=mag(master_flux_13)\n",
    "mag6=mag(master_flux_6)\n",
    "\n",
    "#taking the initial difference in magnitudes using shot of index 3 as the comparison\n",
    "diff7=mag7-mag7[3]\n",
    "diff13=mag13-mag13[3]\n",
    "diff6=mag6-mag6[3]\n",
    "\n",
    "#taking the mean of the differences at each shot to create the differential photometry array\n",
    "diff=[]\n",
    "i=0\n",
    "while i<len(mag7):\n",
    "    diff.append(np.mean([diff7[i],diff13[i],diff6[i]]))\n",
    "    i+=1\n",
    "\n",
    "mag_wasp_corrected=mag_wasp-diff\n",
    "mag7_corrected=mag7-diff\n",
    "mag13_corrected=mag13-diff\n",
    "mag6_corrected=mag6-diff\n",
    "\n",
    "\n",
    "uncertaintywasp=[]\n",
    "uncertainty7=[]\n",
    "uncertainty13=[]\n",
    "uncertainty6=[]\n",
    "mag_wasp_err=[]\n",
    "mag7_err=[]\n",
    "mag13_err=[]\n",
    "mag6_err=[]\n",
    "#error propagation using the uncertainties package\n",
    "x=0\n",
    "while x<len(master_flux_wasp):\n",
    "    uncertaintywasp.append(ufloat(master_flux_wasp[x],master_flux_wasp_err[x]))\n",
    "    uncertainty7.append(ufloat(master_flux_7[x],master_flux_7_err[x]))\n",
    "    uncertainty13.append(ufloat(master_flux_13[x],master_flux_13_err[x]))\n",
    "    uncertainty6.append(ufloat(master_flux_6[x],master_flux_6_err[x]))\n",
    "    uncertaintywasp[x]=-2.5*unumpy.log10(uncertaintywasp[x])\n",
    "    uncertainty7[x]=-2.5*unumpy.log10(uncertainty7[x])\n",
    "    uncertainty13[x]=-2.5*unumpy.log10(uncertainty13[x])\n",
    "    uncertainty6[x]=-2.5*unumpy.log10(uncertainty6[x])\n",
    "    mag_wasp_err.append(uncertaintywasp[x].std_dev)\n",
    "    mag7_err.append(uncertainty7[x].std_dev)\n",
    "    mag13_err.append(uncertainty13[x].std_dev)\n",
    "    mag6_err.append(uncertainty6[x].std_dev)\n",
    "    x+=1\n",
    "        \n",
    "#plotting\n",
    "plt.plot(master_times,mag_wasp_corrected,'ro')\n",
    "plt.errorbar(master_times,mag_wasp_corrected,yerr=mag_wasp_err, linestyle=\"none\")\n",
    "plt.title('Wasp-183 b Transit', fontsize=20)\n",
    "plt.xlabel('Time (sec)',fontsize=16)\n",
    "plt.ylabel('Instrumental Magnitude',fontsize=16)\n",
    "plt.axvline(x=master_times[42], color='black', linestyle='dashed')\n",
    "plt.axvline(x=master_times[6], color='black', linestyle='dashed')\n",
    "plt.gca().invert_yaxis()\n",
    "plt.savefig('wasp.png',bbox_inches='tight', dpi=300)\n",
    "plt.show()\n",
    "\n",
    "plt.plot(master_times,mag7_corrected,'bo')\n",
    "plt.errorbar(master_times,mag7_corrected,yerr=mag7_err, linestyle=\"none\")\n",
    "plt.title('Calibration Star 1', fontsize=20)\n",
    "plt.xlabel('Time (sec)', fontsize=16)\n",
    "plt.ylabel('Instrumental Magnitude', fontsize=16)\n",
    "plt.gca().invert_yaxis()\n",
    "plt.savefig('target1.png',bbox_inches='tight', dpi=300)\n",
    "plt.show()\n",
    "\n",
    "plt.plot(master_times,mag13_corrected,'go')\n",
    "plt.errorbar(master_times,mag13_corrected,yerr=mag13_err, linestyle=\"none\")\n",
    "plt.title('Calibration Star 2', fontsize=20)\n",
    "plt.xlabel('Time (sec)', fontsize=16)\n",
    "plt.ylabel('Instrumental Magnitude', fontsize=16)\n",
    "plt.gca().invert_yaxis()\n",
    "plt.savefig('target2.png',bbox_inches='tight', dpi=300)\n",
    "plt.show()\n",
    "\n",
    "plt.plot(master_times,mag6_corrected,'mo')\n",
    "plt.errorbar(master_times,mag6_corrected,yerr=mag6_err, linestyle=\"none\")\n",
    "plt.title('Calibration Star 3', fontsize=20)\n",
    "plt.xlabel('Time (sec)', fontsize=16)\n",
    "plt.ylabel('Instrumental Magnitude', fontsize=16)\n",
    "plt.gca().invert_yaxis()\n",
    "plt.savefig('target3.png',bbox_inches='tight', dpi=300)\n",
    "plt.show()\n",
    "\n"
   ]
  },
  {
   "cell_type": "code",
   "execution_count": null,
   "metadata": {},
   "outputs": [],
   "source": []
  }
 ],
 "metadata": {
  "kernelspec": {
   "display_name": "Python 3",
   "language": "python",
   "name": "python3"
  },
  "language_info": {
   "codemirror_mode": {
    "name": "ipython",
    "version": 3
   },
   "file_extension": ".py",
   "mimetype": "text/x-python",
   "name": "python",
   "nbconvert_exporter": "python",
   "pygments_lexer": "ipython3",
   "version": "3.7.6"
  }
 },
 "nbformat": 4,
 "nbformat_minor": 4
}
