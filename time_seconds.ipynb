{
 "cells": [
  {
   "cell_type": "code",
   "execution_count": 3,
   "metadata": {},
   "outputs": [],
   "source": [
    "import numpy as np"
   ]
  },
  {
   "cell_type": "code",
   "execution_count": 8,
   "metadata": {},
   "outputs": [],
   "source": [
    "t=[]"
   ]
  },
  {
   "cell_type": "code",
   "execution_count": 42,
   "metadata": {},
   "outputs": [
    {
     "data": {
      "text/plain": [
       "[14428,\n",
       " 14608,\n",
       " 14963,\n",
       " 15175,\n",
       " 15366,\n",
       " 15723,\n",
       " 15901,\n",
       " 16080,\n",
       " 16265,\n",
       " 16444,\n",
       " 16979,\n",
       " 17371,\n",
       " 17728,\n",
       " 17906,\n",
       " 18156,\n",
       " 18335,\n",
       " 18513,\n",
       " 18692,\n",
       " 18870,\n",
       " 19275,\n",
       " 19632,\n",
       " 19810,\n",
       " 20482,\n",
       " 20697,\n",
       " 21054,\n",
       " 21317,\n",
       " 21674,\n",
       " 21869,\n",
       " 22048,\n",
       " 22226,\n",
       " 22405,\n",
       " 22583]"
      ]
     },
     "execution_count": 42,
     "metadata": {},
     "output_type": "execute_result"
    }
   ],
   "source": [
    "t.append(6*np.power(60,2)+16*60+23)\n",
    "t"
   ]
  }
 ],
 "metadata": {
  "kernelspec": {
   "display_name": "Python 3",
   "language": "python",
   "name": "python3"
  },
  "language_info": {
   "codemirror_mode": {
    "name": "ipython",
    "version": 3
   },
   "file_extension": ".py",
   "mimetype": "text/x-python",
   "name": "python",
   "nbconvert_exporter": "python",
   "pygments_lexer": "ipython3",
   "version": "3.7.6"
  }
 },
 "nbformat": 4,
 "nbformat_minor": 4
}
